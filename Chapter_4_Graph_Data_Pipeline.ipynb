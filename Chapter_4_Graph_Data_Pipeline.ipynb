{
  "nbformat": 4,
  "nbformat_minor": 0,
  "metadata": {
    "colab": {
      "provenance": [],
      "toc_visible": true,
      "authorship_tag": "ABX9TyNQkboAB5vJ3tbgKGHVjZZo",
      "include_colab_link": true
    },
    "kernelspec": {
      "name": "python3",
      "display_name": "Python 3"
    },
    "language_info": {
      "name": "python"
    }
  },
  "cells": [
    {
      "cell_type": "markdown",
      "metadata": {
        "id": "view-in-github",
        "colab_type": "text"
      },
      "source": [
        "<a href=\"https://colab.research.google.com/github/zmgy107/DGL-Learning-Notes/blob/main/Chapter_4_Graph_Data_Pipeline.ipynb\" target=\"_parent\"><img src=\"https://colab.research.google.com/assets/colab-badge.svg\" alt=\"Open In Colab\"/></a>"
      ]
    },
    {
      "cell_type": "code",
      "source": [
        "%pip install  dgl -f https://data.dgl.ai/wheels/cu117/repo.html\n",
        "%pip install  dglgo -f https://data.dgl.ai/wheels-test/repo.html\n",
        "\n",
        "import dgl"
      ],
      "metadata": {
        "colab": {
          "base_uri": "https://localhost:8080/"
        },
        "id": "qEFTEvtuh-N8",
        "outputId": "48c99140-036a-4771-be3e-86535b6d951d"
      },
      "execution_count": null,
      "outputs": [
        {
          "output_type": "stream",
          "name": "stdout",
          "text": [
            "Looking in indexes: https://pypi.org/simple, https://us-python.pkg.dev/colab-wheels/public/simple/\n",
            "Looking in links: https://data.dgl.ai/wheels/cu117/repo.html\n",
            "Collecting dgl\n",
            "  Downloading https://data.dgl.ai/wheels/cu117/dgl-1.0.1%2Bcu117-cp39-cp39-manylinux1_x86_64.whl (266.3 MB)\n",
            "\u001b[2K     \u001b[90m━━━━━━━━━━━━━━━━━━━━━━━━━━━━━━━━━━━━━━━\u001b[0m \u001b[32m266.3/266.3 MB\u001b[0m \u001b[31m5.9 MB/s\u001b[0m eta \u001b[36m0:00:00\u001b[0m\n",
            "\u001b[?25hRequirement already satisfied: scipy>=1.1.0 in /usr/local/lib/python3.9/dist-packages (from dgl) (1.10.1)\n",
            "Requirement already satisfied: tqdm in /usr/local/lib/python3.9/dist-packages (from dgl) (4.65.0)\n",
            "Requirement already satisfied: psutil>=5.8.0 in /usr/local/lib/python3.9/dist-packages (from dgl) (5.9.4)\n",
            "Requirement already satisfied: numpy>=1.14.0 in /usr/local/lib/python3.9/dist-packages (from dgl) (1.22.4)\n",
            "Requirement already satisfied: networkx>=2.1 in /usr/local/lib/python3.9/dist-packages (from dgl) (3.0)\n",
            "Requirement already satisfied: requests>=2.19.0 in /usr/local/lib/python3.9/dist-packages (from dgl) (2.27.1)\n",
            "Requirement already satisfied: urllib3<1.27,>=1.21.1 in /usr/local/lib/python3.9/dist-packages (from requests>=2.19.0->dgl) (1.26.15)\n",
            "Requirement already satisfied: charset-normalizer~=2.0.0 in /usr/local/lib/python3.9/dist-packages (from requests>=2.19.0->dgl) (2.0.12)\n",
            "Requirement already satisfied: certifi>=2017.4.17 in /usr/local/lib/python3.9/dist-packages (from requests>=2.19.0->dgl) (2022.12.7)\n",
            "Requirement already satisfied: idna<4,>=2.5 in /usr/local/lib/python3.9/dist-packages (from requests>=2.19.0->dgl) (3.4)\n",
            "Installing collected packages: dgl\n",
            "Successfully installed dgl-1.0.1+cu117\n",
            "Looking in indexes: https://pypi.org/simple, https://us-python.pkg.dev/colab-wheels/public/simple/\n",
            "Looking in links: https://data.dgl.ai/wheels-test/repo.html\n",
            "Collecting dglgo\n",
            "  Downloading dglgo-0.0.2-py3-none-any.whl (63 kB)\n",
            "\u001b[2K     \u001b[90m━━━━━━━━━━━━━━━━━━━━━━━━━━━━━━━━━━━━━━━━\u001b[0m \u001b[32m63.5/63.5 KB\u001b[0m \u001b[31m5.5 MB/s\u001b[0m eta \u001b[36m0:00:00\u001b[0m\n",
            "\u001b[?25hCollecting isort>=5.10.1\n",
            "  Downloading isort-5.12.0-py3-none-any.whl (91 kB)\n",
            "\u001b[2K     \u001b[90m━━━━━━━━━━━━━━━━━━━━━━━━━━━━━━━━━━━━━━━━\u001b[0m \u001b[32m91.2/91.2 KB\u001b[0m \u001b[31m11.5 MB/s\u001b[0m eta \u001b[36m0:00:00\u001b[0m\n",
            "\u001b[?25hRequirement already satisfied: scikit-learn>=0.20.0 in /usr/local/lib/python3.9/dist-packages (from dglgo) (1.2.2)\n",
            "Requirement already satisfied: pydantic>=1.9.0 in /usr/local/lib/python3.9/dist-packages (from dglgo) (1.10.7)\n",
            "Requirement already satisfied: PyYAML>=5.1 in /usr/local/lib/python3.9/dist-packages (from dglgo) (6.0)\n",
            "Collecting ogb>=1.3.3\n",
            "  Downloading ogb-1.3.5-py3-none-any.whl (78 kB)\n",
            "\u001b[2K     \u001b[90m━━━━━━━━━━━━━━━━━━━━━━━━━━━━━━━━━━━━━━━━\u001b[0m \u001b[32m78.6/78.6 KB\u001b[0m \u001b[31m9.7 MB/s\u001b[0m eta \u001b[36m0:00:00\u001b[0m\n",
            "\u001b[?25hCollecting rdkit-pypi\n",
            "  Downloading rdkit_pypi-2022.9.5-cp39-cp39-manylinux_2_17_x86_64.manylinux2014_x86_64.whl (29.4 MB)\n",
            "\u001b[2K     \u001b[90m━━━━━━━━━━━━━━━━━━━━━━━━━━━━━━━━━━━━━━━━\u001b[0m \u001b[32m29.4/29.4 MB\u001b[0m \u001b[31m61.8 MB/s\u001b[0m eta \u001b[36m0:00:00\u001b[0m\n",
            "\u001b[?25hRequirement already satisfied: typer>=0.4.0 in /usr/local/lib/python3.9/dist-packages (from dglgo) (0.7.0)\n",
            "Collecting autopep8>=1.6.0\n",
            "  Downloading autopep8-2.0.2-py2.py3-none-any.whl (45 kB)\n",
            "\u001b[2K     \u001b[90m━━━━━━━━━━━━━━━━━━━━━━━━━━━━━━━━━━━━━━━━\u001b[0m \u001b[32m45.2/45.2 KB\u001b[0m \u001b[31m5.2 MB/s\u001b[0m eta \u001b[36m0:00:00\u001b[0m\n",
            "\u001b[?25hCollecting ruamel.yaml>=0.17.20\n",
            "  Downloading ruamel.yaml-0.17.21-py3-none-any.whl (109 kB)\n",
            "\u001b[2K     \u001b[90m━━━━━━━━━━━━━━━━━━━━━━━━━━━━━━━━━━━━━━\u001b[0m \u001b[32m109.5/109.5 KB\u001b[0m \u001b[31m13.6 MB/s\u001b[0m eta \u001b[36m0:00:00\u001b[0m\n",
            "\u001b[?25hCollecting numpydoc>=1.1.0\n",
            "  Downloading numpydoc-1.5.0-py3-none-any.whl (52 kB)\n",
            "\u001b[2K     \u001b[90m━━━━━━━━━━━━━━━━━━━━━━━━━━━━━━━━━━━━━━━━\u001b[0m \u001b[32m52.4/52.4 KB\u001b[0m \u001b[31m6.7 MB/s\u001b[0m eta \u001b[36m0:00:00\u001b[0m\n",
            "\u001b[?25hRequirement already satisfied: tomli in /usr/local/lib/python3.9/dist-packages (from autopep8>=1.6.0->dglgo) (2.0.1)\n",
            "Collecting pycodestyle>=2.10.0\n",
            "  Downloading pycodestyle-2.10.0-py2.py3-none-any.whl (41 kB)\n",
            "\u001b[2K     \u001b[90m━━━━━━━━━━━━━━━━━━━━━━━━━━━━━━━━━━━━━━━━\u001b[0m \u001b[32m41.3/41.3 KB\u001b[0m \u001b[31m3.7 MB/s\u001b[0m eta \u001b[36m0:00:00\u001b[0m\n",
            "\u001b[?25hRequirement already satisfied: Jinja2>=2.10 in /usr/local/lib/python3.9/dist-packages (from numpydoc>=1.1.0->dglgo) (3.1.2)\n",
            "Collecting sphinx>=4.2\n",
            "  Downloading sphinx-6.1.3-py3-none-any.whl (3.0 MB)\n",
            "\u001b[2K     \u001b[90m━━━━━━━━━━━━━━━━━━━━━━━━━━━━━━━━━━━━━━━━\u001b[0m \u001b[32m3.0/3.0 MB\u001b[0m \u001b[31m100.7 MB/s\u001b[0m eta \u001b[36m0:00:00\u001b[0m\n",
            "\u001b[?25hCollecting outdated>=0.2.0\n",
            "  Downloading outdated-0.2.2-py2.py3-none-any.whl (7.5 kB)\n",
            "Requirement already satisfied: torch>=1.6.0 in /usr/local/lib/python3.9/dist-packages (from ogb>=1.3.3->dglgo) (1.13.1+cu116)\n",
            "Requirement already satisfied: six>=1.12.0 in /usr/local/lib/python3.9/dist-packages (from ogb>=1.3.3->dglgo) (1.16.0)\n",
            "Requirement already satisfied: urllib3>=1.24.0 in /usr/local/lib/python3.9/dist-packages (from ogb>=1.3.3->dglgo) (1.26.15)\n",
            "Requirement already satisfied: pandas>=0.24.0 in /usr/local/lib/python3.9/dist-packages (from ogb>=1.3.3->dglgo) (1.4.4)\n",
            "Requirement already satisfied: tqdm>=4.29.0 in /usr/local/lib/python3.9/dist-packages (from ogb>=1.3.3->dglgo) (4.65.0)\n",
            "Requirement already satisfied: numpy>=1.16.0 in /usr/local/lib/python3.9/dist-packages (from ogb>=1.3.3->dglgo) (1.22.4)\n",
            "Requirement already satisfied: typing-extensions>=4.2.0 in /usr/local/lib/python3.9/dist-packages (from pydantic>=1.9.0->dglgo) (4.5.0)\n",
            "Collecting ruamel.yaml.clib>=0.2.6\n",
            "  Downloading ruamel.yaml.clib-0.2.7-cp39-cp39-manylinux_2_17_x86_64.manylinux2014_x86_64.manylinux_2_24_x86_64.whl (519 kB)\n",
            "\u001b[2K     \u001b[90m━━━━━━━━━━━━━━━━━━━━━━━━━━━━━━━━━━━━━━\u001b[0m \u001b[32m519.4/519.4 KB\u001b[0m \u001b[31m43.5 MB/s\u001b[0m eta \u001b[36m0:00:00\u001b[0m\n",
            "\u001b[?25hRequirement already satisfied: joblib>=1.1.1 in /usr/local/lib/python3.9/dist-packages (from scikit-learn>=0.20.0->dglgo) (1.1.1)\n",
            "Requirement already satisfied: threadpoolctl>=2.0.0 in /usr/local/lib/python3.9/dist-packages (from scikit-learn>=0.20.0->dglgo) (3.1.0)\n",
            "Requirement already satisfied: scipy>=1.3.2 in /usr/local/lib/python3.9/dist-packages (from scikit-learn>=0.20.0->dglgo) (1.10.1)\n",
            "Requirement already satisfied: click<9.0.0,>=7.1.1 in /usr/local/lib/python3.9/dist-packages (from typer>=0.4.0->dglgo) (8.1.3)\n",
            "Requirement already satisfied: Pillow in /usr/local/lib/python3.9/dist-packages (from rdkit-pypi->dglgo) (8.4.0)\n",
            "Requirement already satisfied: MarkupSafe>=2.0 in /usr/local/lib/python3.9/dist-packages (from Jinja2>=2.10->numpydoc>=1.1.0->dglgo) (2.1.2)\n",
            "Collecting littleutils\n",
            "  Downloading littleutils-0.2.2.tar.gz (6.6 kB)\n",
            "  Preparing metadata (setup.py) ... \u001b[?25l\u001b[?25hdone\n",
            "Requirement already satisfied: setuptools>=44 in /usr/local/lib/python3.9/dist-packages (from outdated>=0.2.0->ogb>=1.3.3->dglgo) (67.6.0)\n",
            "Requirement already satisfied: requests in /usr/local/lib/python3.9/dist-packages (from outdated>=0.2.0->ogb>=1.3.3->dglgo) (2.27.1)\n",
            "Requirement already satisfied: python-dateutil>=2.8.1 in /usr/local/lib/python3.9/dist-packages (from pandas>=0.24.0->ogb>=1.3.3->dglgo) (2.8.2)\n",
            "Requirement already satisfied: pytz>=2020.1 in /usr/local/lib/python3.9/dist-packages (from pandas>=0.24.0->ogb>=1.3.3->dglgo) (2022.7.1)\n",
            "Requirement already satisfied: Pygments>=2.13 in /usr/local/lib/python3.9/dist-packages (from sphinx>=4.2->numpydoc>=1.1.0->dglgo) (2.14.0)\n",
            "Requirement already satisfied: snowballstemmer>=2.0 in /usr/local/lib/python3.9/dist-packages (from sphinx>=4.2->numpydoc>=1.1.0->dglgo) (2.2.0)\n",
            "Requirement already satisfied: importlib-metadata>=4.8 in /usr/local/lib/python3.9/dist-packages (from sphinx>=4.2->numpydoc>=1.1.0->dglgo) (6.1.0)\n",
            "Requirement already satisfied: babel>=2.9 in /usr/local/lib/python3.9/dist-packages (from sphinx>=4.2->numpydoc>=1.1.0->dglgo) (2.12.1)\n",
            "Requirement already satisfied: sphinxcontrib-qthelp in /usr/local/lib/python3.9/dist-packages (from sphinx>=4.2->numpydoc>=1.1.0->dglgo) (1.0.3)\n",
            "Requirement already satisfied: alabaster<0.8,>=0.7 in /usr/local/lib/python3.9/dist-packages (from sphinx>=4.2->numpydoc>=1.1.0->dglgo) (0.7.13)\n",
            "Requirement already satisfied: packaging>=21.0 in /usr/local/lib/python3.9/dist-packages (from sphinx>=4.2->numpydoc>=1.1.0->dglgo) (23.0)\n",
            "Requirement already satisfied: sphinxcontrib-applehelp in /usr/local/lib/python3.9/dist-packages (from sphinx>=4.2->numpydoc>=1.1.0->dglgo) (1.0.4)\n",
            "Requirement already satisfied: imagesize>=1.3 in /usr/local/lib/python3.9/dist-packages (from sphinx>=4.2->numpydoc>=1.1.0->dglgo) (1.4.1)\n",
            "Requirement already satisfied: sphinxcontrib-serializinghtml>=1.1.5 in /usr/local/lib/python3.9/dist-packages (from sphinx>=4.2->numpydoc>=1.1.0->dglgo) (1.1.5)\n",
            "Requirement already satisfied: sphinxcontrib-htmlhelp>=2.0.0 in /usr/local/lib/python3.9/dist-packages (from sphinx>=4.2->numpydoc>=1.1.0->dglgo) (2.0.1)\n",
            "Collecting docutils<0.20,>=0.18\n",
            "  Downloading docutils-0.19-py3-none-any.whl (570 kB)\n",
            "\u001b[2K     \u001b[90m━━━━━━━━━━━━━━━━━━━━━━━━━━━━━━━━━━━━━━\u001b[0m \u001b[32m570.5/570.5 KB\u001b[0m \u001b[31m44.0 MB/s\u001b[0m eta \u001b[36m0:00:00\u001b[0m\n",
            "\u001b[?25hRequirement already satisfied: sphinxcontrib-jsmath in /usr/local/lib/python3.9/dist-packages (from sphinx>=4.2->numpydoc>=1.1.0->dglgo) (1.0.1)\n",
            "Requirement already satisfied: sphinxcontrib-devhelp in /usr/local/lib/python3.9/dist-packages (from sphinx>=4.2->numpydoc>=1.1.0->dglgo) (1.0.2)\n",
            "Requirement already satisfied: zipp>=0.5 in /usr/local/lib/python3.9/dist-packages (from importlib-metadata>=4.8->sphinx>=4.2->numpydoc>=1.1.0->dglgo) (3.15.0)\n",
            "Requirement already satisfied: idna<4,>=2.5 in /usr/local/lib/python3.9/dist-packages (from requests->outdated>=0.2.0->ogb>=1.3.3->dglgo) (3.4)\n",
            "Requirement already satisfied: certifi>=2017.4.17 in /usr/local/lib/python3.9/dist-packages (from requests->outdated>=0.2.0->ogb>=1.3.3->dglgo) (2022.12.7)\n",
            "Requirement already satisfied: charset-normalizer~=2.0.0 in /usr/local/lib/python3.9/dist-packages (from requests->outdated>=0.2.0->ogb>=1.3.3->dglgo) (2.0.12)\n",
            "Building wheels for collected packages: littleutils\n",
            "  Building wheel for littleutils (setup.py) ... \u001b[?25l\u001b[?25hdone\n",
            "  Created wheel for littleutils: filename=littleutils-0.2.2-py3-none-any.whl size=7048 sha256=38d1c22c1af4896fe5276e01bb184007afa16678004ff8306658f6bf0bd105d0\n",
            "  Stored in directory: /root/.cache/pip/wheels/04/bb/0d/2d02ec45f29c48d6192476bfb59c5a0e64b605e7212374dd15\n",
            "Successfully built littleutils\n",
            "Installing collected packages: littleutils, ruamel.yaml.clib, rdkit-pypi, pycodestyle, isort, docutils, sphinx, ruamel.yaml, outdated, autopep8, ogb, numpydoc, dglgo\n",
            "  Attempting uninstall: docutils\n",
            "    Found existing installation: docutils 0.16\n",
            "    Uninstalling docutils-0.16:\n",
            "      Successfully uninstalled docutils-0.16\n",
            "  Attempting uninstall: sphinx\n",
            "    Found existing installation: Sphinx 3.5.4\n",
            "    Uninstalling Sphinx-3.5.4:\n",
            "      Successfully uninstalled Sphinx-3.5.4\n",
            "Successfully installed autopep8-2.0.2 dglgo-0.0.2 docutils-0.19 isort-5.12.0 littleutils-0.2.2 numpydoc-1.5.0 ogb-1.3.5 outdated-0.2.2 pycodestyle-2.10.0 rdkit-pypi-2022.9.5 ruamel.yaml-0.17.21 ruamel.yaml.clib-0.2.7 sphinx-6.1.3\n"
          ]
        },
        {
          "output_type": "stream",
          "name": "stderr",
          "text": [
            "DGL backend not selected or invalid.  Assuming PyTorch for now.\n"
          ]
        },
        {
          "output_type": "stream",
          "name": "stdout",
          "text": [
            "Setting the default backend to \"pytorch\". You can change it in the ~/.dgl/config.json file or export the DGLBACKEND environment variable.  Valid options are: pytorch, mxnet, tensorflow (all lowercase)\n"
          ]
        }
      ]
    },
    {
      "cell_type": "markdown",
      "source": [
        "# 4.1 DGLDataset class\n",
        "\n",
        "DGLDataset is the base class for processing, loading and saving graph datasets defined in dgl.data. It implements the basic pipeline for processing graph data. The following flow chart shows how the pipeline works.\n",
        "\n",
        "![userguide_data_flow.png](data:image/png;base64,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)"
      ],
      "metadata": {
        "id": "MCiG78Wpg76N"
      }
    },
    {
      "cell_type": "markdown",
      "source": [
        "The template of MyDataset is as follows."
      ],
      "metadata": {
        "id": "wT9YbWSdhn1_"
      }
    },
    {
      "cell_type": "code",
      "source": [
        "from dgl.data import DGLDataset\n",
        "\n",
        "class MyDataset(DGLDataset):\n",
        "  \"\"\"parameters:\n",
        "  url:str URL to download the raw dataset\n",
        "  raw_dir:str\n",
        "    Specify the directory that will store the \n",
        "    download data or the directory that already \n",
        "    stores the input data\n",
        "    Default:~/.dgl/\n",
        "  save_dgl:str\n",
        "    Directory to save the processed dataset\n",
        "    Default:the value of 'raw_dir'\n",
        "  force_reload:bool\n",
        "    whether to reload the dataset.\n",
        "    Default:False\n",
        "  verbose:bool\n",
        "    Whether to print out process information\n",
        "  \"\"\"\n",
        "  def __init__(\n",
        "      self,\n",
        "      url=None,\n",
        "      raw_dir=None,\n",
        "      save_dir=None,\n",
        "      force_reload=False,\n",
        "      verbose=False):\n",
        "    super(MyDataset,self).__init__(name='dataset_name',\n",
        "                    url=url,\n",
        "                    raw_dir=raw_dir,\n",
        "                    save_dir=save_dir,\n",
        "                    force_reload=force_reload,\n",
        "                    verbose=verbose)\n",
        "  \n",
        "  def download(self):\n",
        "    # download raw data to local disk\n",
        "    pass\n",
        "  \n",
        "  def process(self):\n",
        "    # process raw data to graphs, labels, splitting masks\n",
        "    pass\n",
        "\n",
        "  def __getitem__(self, idx):\n",
        "    # get one example by index\n",
        "    pass\n",
        "\n",
        "  def __len__(self):\n",
        "    # number of data examples\n",
        "    pass\n",
        "\n",
        "  def save(self):\n",
        "    # save processed data to directory `self.save_path`\n",
        "    pass\n",
        "\n",
        "  def load(self):\n",
        "    # load processed data from directory `self.save_path`\n",
        "    pass\n",
        "\n",
        "  def has_cache(self):\n",
        "    # check whether there are processed data in `self.save_path`\n",
        "    pass"
      ],
      "metadata": {
        "id": "FQs1OPqohyhM"
      },
      "execution_count": null,
      "outputs": []
    },
    {
      "cell_type": "markdown",
      "source": [
        "DGLDataset class has abstract functions process(), __getitem__(idx) and __len__() that must be implemented in the subclass. DGL also recommends implementing saving and loading as well, since they can save significant time for processing large datasets, and there are several APIs making it easy\n",
        "\n",
        "__Note that the purpose of DGLDataset is to provide a standard and convenient way to load graph data.__ One can store graphs, features, labels, masks and basic information about the dataset, such as number of classes, number of labels, etc. Operations such as sampling, partition or feature normalization are done outside of the DGLDataset subclass.\n"
      ],
      "metadata": {
        "id": "hYb-jb8olxbI"
      }
    },
    {
      "cell_type": "markdown",
      "source": [
        "# 4.2 Download raw data(optional)\n",
        "\n",
        "If a dataset is already in local disk, make sure it’s __in directory raw_dir__. If one wants to run the code anywhere without bothering to download and move data to the right directory, one can do it automatically by implementing function download().\n",
        "\n",
        "If the dataset is a __zip file__,make MyDataset inherit from dgl.data.DGLBuiltinDataset class, which handles the zip file extraction for us.Otherwise, one needs to implement download() like in QM7bDataset:"
      ],
      "metadata": {
        "id": "5gcjng0TmPUq"
      }
    },
    {
      "cell_type": "code",
      "source": [
        "import os\n",
        "from dgl.data.utils import download\n",
        "\n",
        "def download(self):\n",
        "  # path to store the file\n",
        "  file_path=os.path.join(self.raw_dir,self.name+'.mat') # download .mat file to directory self.raw_dir\n",
        "  # download file\n",
        "  download(self.url,path=file_path)"
      ],
      "metadata": {
        "id": "CNZCK09-mqeW"
      },
      "execution_count": null,
      "outputs": []
    },
    {
      "cell_type": "markdown",
      "source": [
        "If the file is a __.gz,.tar,.tar.gz or .tgz file__,use \n",
        "\n",
        "```\n",
        "# extract_archive()\n",
        "```\n",
        "function to extract.\n"
      ],
      "metadata": {
        "id": "oXgAqPDNn565"
      }
    },
    {
      "cell_type": "code",
      "source": [
        "# download a .gz file in BitcoinOTCDataset\n",
        "from dgl.data.utils import download,check_sha1\n",
        "\n",
        "def download(self):\n",
        "  # path to store the file\n",
        "  # make sure to use the same suffix as the original file name's\n",
        "  gz_file_path=os.path.join(self.raw_dir,self.name+'.csv.gz')\n",
        "  # download file\n",
        "  download(self.url,path=gz_file_path)\n",
        "  # check SHA-1\n",
        "  if not check_sha1(gz_file_path,self._sha1_str):\n",
        "    raise UserWarning('File {} is downloaded but the content hash does not match.'\n",
        "    'The repo may be outdated or download may be incomplete.'\n",
        "    'otherwise you can create an issue for it.'.format(self.name+'.csv.gz'))\n",
        "  # extract file to directory 'self.name' under 'self.raw_dir'\n",
        "  self._extract_gz(gz_file_path,self.raw_path)"
      ],
      "metadata": {
        "id": "4gD7k-DZog2T"
      },
      "execution_count": null,
      "outputs": []
    },
    {
      "cell_type": "markdown",
      "source": [
        "Optionally, one can check SHA-1 string of the downloaded file as the example above does, in case the author changed the file in the remote server some day."
      ],
      "metadata": {
        "id": "t4velhRAt2k_"
      }
    },
    {
      "cell_type": "markdown",
      "source": [
        "# 4.3 Process data\n",
        "\n",
        "One can implement the data processing code in function process(), and it assumes that the raw data is located in self.raw_dir already. \n",
        "\n",
        "Three types of tasks in machine learning on graphs:\n",
        "\n",
        "*  graph classification\n",
        "*  node classification\n",
        "*  link prediction\n",
        "\n",
        "The section focuses on the standard way to process graphs, features and masks. It will use builtin datasets as examples and skip the implementations for building graphs from files, but add links to the detailed implementations."
      ],
      "metadata": {
        "id": "AKekjY6kt5yY"
      }
    },
    {
      "cell_type": "markdown",
      "source": [
        "## Processing Graph Classification datasets\n",
        "\n",
        "Graph classification datasets are almost the same as most datasets in typical machine learning tasks, where __mini-batch training is used. So one can process the raw data to a list of dgl.DGLGraph objects and a list of label tensors.__ In addition, if the raw data has been split into several files, one can add a parameter split to load specific part of the data."
      ],
      "metadata": {
        "id": "kVfsEVFAvX4M"
      }
    },
    {
      "cell_type": "code",
      "source": [
        "# take QM7bDataset as example\n",
        "from scipy import io\n",
        "import numpy as np\n",
        "import os\n",
        "from dgl.data.utils import download, save_graphs, load_graphs, \\\n",
        "    check_sha1, deprecate_property\n",
        "from dgl import backend as F\n",
        "from dgl.data import DGLDataset\n",
        "\n",
        "class QM7bDataset(DGLDataset):\n",
        "  _url = 'http://deepchem.io.s3-website-us-west-1.amazonaws.com/' \\\n",
        "           'datasets/qm7b.mat'\n",
        "  _sha1_str= '4102c744bb9d6fd7b40ac67a300e49cd87e28392'\n",
        "\n",
        "  def __init__(self,raw_dir=None,force_reload=False,verbose=False):\n",
        "    super(QM7bDataset,self).__init__(name='qm7b',\n",
        "                    url=self.url,\n",
        "                    raw_dir=raw_dir,\n",
        "                    force_reload=force_reload,\n",
        "                    verbose=verbose)\n",
        "  \n",
        "  def process(self):\n",
        "    mat_path=self.raw_path+'.mat'\n",
        "    # process data to a list of graphs and a list of labels\n",
        "    self.graphs,self.label=self._load_graph(mat_path)\n",
        "\n",
        "  def _load_graph(self, filename):\n",
        "      data = io.loadmat(filename)\n",
        "      labels = F.tensor(data['T'], dtype=F.data_type_dict['float32'])\n",
        "      feats = data['X']\n",
        "      num_graphs = labels.shape[0]\n",
        "      graphs = []\n",
        "      for i in range(num_graphs):\n",
        "          edge_list = feats[i].nonzero()\n",
        "          g = dgl_graph(edge_list)\n",
        "          g.edata['h'] = F.tensor(feats[i][edge_list[0], edge_list[1]].reshape(-1, 1),\n",
        "                                  dtype=F.data_type_dict['float32'])\n",
        "          graphs.append(g)\n",
        "      return graphs, labels\n",
        "  \n",
        "  def __getitem__(self,idx):\n",
        "    \"\"\" Get graph and label by index\n",
        "    Parameters:\n",
        "    idx:int Item index\n",
        "\n",
        "    returns:(dgl.DGLGraph,Tensor)\n",
        "    \"\"\"\n",
        "    return self.graph[idx],self.label[idx]\n",
        "\n",
        "  def __len__(self):\n",
        "    \"\"\"Number of graphs in the dataset\"\"\"\n",
        "    return len(self.graphs)"
      ],
      "metadata": {
        "id": "asouhjRvv5Ry"
      },
      "execution_count": null,
      "outputs": []
    },
    {
      "cell_type": "markdown",
      "source": [
        "One must implement \\__getitem__(idx) and \\__len__() for iteration. DGL recommends making \\__getitem__(idx) return a tuple (graph, label) as above.\n",
        "\n",
        "One can also __add properties__ to the class to __indicate some useful information__ of the dataset."
      ],
      "metadata": {
        "id": "q64gOw1xy_0B"
      }
    },
    {
      "cell_type": "code",
      "source": [
        "@property\n",
        "def num_tasks(self):\n",
        "  # indicate the total number of prediction tasks in multi_task dataset\n",
        "  \"\"\"Number of labels for each graph, i.e. number of prediction tasks.\"\"\"\n",
        "  return 14"
      ],
      "metadata": {
        "id": "zl2ik_rAzUck"
      },
      "execution_count": null,
      "outputs": []
    },
    {
      "cell_type": "markdown",
      "source": [
        "After all these coding, one can finally use QM7bDataset as follows:"
      ],
      "metadata": {
        "id": "UlbMtfhL01Rl"
      }
    },
    {
      "cell_type": "code",
      "source": [
        "import dgl\n",
        "import torch\n",
        "\n",
        "from dgl.dataloading import GraphDataLoader\n",
        "\n",
        "# load data\n",
        "dataset=QM7bDataset()\n",
        "num_tasks=dataset.num_tasks\n",
        "\n",
        "# create dataloader\n",
        "dataloader=GraphDataLoader(dataset,batch_size=1,shuffle=True)\n",
        "\n",
        "# train\n",
        "for epoch in range(100):\n",
        "  for g,labels in dataloader:\n",
        "    # training code here\n",
        "    pass"
      ],
      "metadata": {
        "colab": {
          "base_uri": "https://localhost:8080/",
          "height": 449
        },
        "id": "cp2_h9tM02rr",
        "outputId": "7fa59e2d-9fd9-4a8e-8488-647790a2560e"
      },
      "execution_count": null,
      "outputs": [
        {
          "output_type": "error",
          "ename": "FileNotFoundError",
          "evalue": "ignored",
          "traceback": [
            "\u001b[0;31m---------------------------------------------------------------------------\u001b[0m",
            "\u001b[0;31mFileNotFoundError\u001b[0m                         Traceback (most recent call last)",
            "\u001b[0;32m/usr/local/lib/python3.9/dist-packages/scipy/io/matlab/_mio.py\u001b[0m in \u001b[0;36m_open_file\u001b[0;34m(file_like, appendmat, mode)\u001b[0m\n\u001b[1;32m     38\u001b[0m     \u001b[0;32mtry\u001b[0m\u001b[0;34m:\u001b[0m\u001b[0;34m\u001b[0m\u001b[0;34m\u001b[0m\u001b[0m\n\u001b[0;32m---> 39\u001b[0;31m         \u001b[0;32mreturn\u001b[0m \u001b[0mopen\u001b[0m\u001b[0;34m(\u001b[0m\u001b[0mfile_like\u001b[0m\u001b[0;34m,\u001b[0m \u001b[0mmode\u001b[0m\u001b[0;34m)\u001b[0m\u001b[0;34m,\u001b[0m \u001b[0;32mTrue\u001b[0m\u001b[0;34m\u001b[0m\u001b[0;34m\u001b[0m\u001b[0m\n\u001b[0m\u001b[1;32m     40\u001b[0m     \u001b[0;32mexcept\u001b[0m \u001b[0mOSError\u001b[0m \u001b[0;32mas\u001b[0m \u001b[0me\u001b[0m\u001b[0;34m:\u001b[0m\u001b[0;34m\u001b[0m\u001b[0;34m\u001b[0m\u001b[0m\n",
            "\u001b[0;31mFileNotFoundError\u001b[0m: [Errno 2] No such file or directory: '/root/.dgl/qm7b.mat'",
            "\nDuring handling of the above exception, another exception occurred:\n",
            "\u001b[0;31mFileNotFoundError\u001b[0m                         Traceback (most recent call last)",
            "\u001b[0;32m<ipython-input-13-0fc1c8f3387c>\u001b[0m in \u001b[0;36m<module>\u001b[0;34m\u001b[0m\n\u001b[1;32m      5\u001b[0m \u001b[0;34m\u001b[0m\u001b[0m\n\u001b[1;32m      6\u001b[0m \u001b[0;31m# load data\u001b[0m\u001b[0;34m\u001b[0m\u001b[0;34m\u001b[0m\u001b[0m\n\u001b[0;32m----> 7\u001b[0;31m \u001b[0mdataset\u001b[0m\u001b[0;34m=\u001b[0m\u001b[0mQM7bDataset\u001b[0m\u001b[0;34m(\u001b[0m\u001b[0;34m)\u001b[0m\u001b[0;34m\u001b[0m\u001b[0;34m\u001b[0m\u001b[0m\n\u001b[0m\u001b[1;32m      8\u001b[0m \u001b[0mnum_tasks\u001b[0m\u001b[0;34m=\u001b[0m\u001b[0mdataset\u001b[0m\u001b[0;34m.\u001b[0m\u001b[0mnum_tasks\u001b[0m\u001b[0;34m\u001b[0m\u001b[0;34m\u001b[0m\u001b[0m\n\u001b[1;32m      9\u001b[0m \u001b[0;34m\u001b[0m\u001b[0m\n",
            "\u001b[0;32m<ipython-input-12-b0fe05d35e3f>\u001b[0m in \u001b[0;36m__init__\u001b[0;34m(self, raw_dir, force_reload, verbose)\u001b[0m\n\u001b[1;32m     14\u001b[0m \u001b[0;34m\u001b[0m\u001b[0m\n\u001b[1;32m     15\u001b[0m   \u001b[0;32mdef\u001b[0m \u001b[0m__init__\u001b[0m\u001b[0;34m(\u001b[0m\u001b[0mself\u001b[0m\u001b[0;34m,\u001b[0m\u001b[0mraw_dir\u001b[0m\u001b[0;34m=\u001b[0m\u001b[0;32mNone\u001b[0m\u001b[0;34m,\u001b[0m\u001b[0mforce_reload\u001b[0m\u001b[0;34m=\u001b[0m\u001b[0;32mFalse\u001b[0m\u001b[0;34m,\u001b[0m\u001b[0mverbose\u001b[0m\u001b[0;34m=\u001b[0m\u001b[0;32mFalse\u001b[0m\u001b[0;34m)\u001b[0m\u001b[0;34m:\u001b[0m\u001b[0;34m\u001b[0m\u001b[0;34m\u001b[0m\u001b[0m\n\u001b[0;32m---> 16\u001b[0;31m     super(QM7bDataset,self).__init__(name='qm7b',\n\u001b[0m\u001b[1;32m     17\u001b[0m                     \u001b[0murl\u001b[0m\u001b[0;34m=\u001b[0m\u001b[0mself\u001b[0m\u001b[0;34m.\u001b[0m\u001b[0murl\u001b[0m\u001b[0;34m,\u001b[0m\u001b[0;34m\u001b[0m\u001b[0;34m\u001b[0m\u001b[0m\n\u001b[1;32m     18\u001b[0m                     \u001b[0mraw_dir\u001b[0m\u001b[0;34m=\u001b[0m\u001b[0mraw_dir\u001b[0m\u001b[0;34m,\u001b[0m\u001b[0;34m\u001b[0m\u001b[0;34m\u001b[0m\u001b[0m\n",
            "\u001b[0;32m/usr/local/lib/python3.9/dist-packages/dgl/data/dgl_dataset.py\u001b[0m in \u001b[0;36m__init__\u001b[0;34m(self, name, url, raw_dir, save_dir, hash_key, force_reload, verbose, transform)\u001b[0m\n\u001b[1;32m    111\u001b[0m             \u001b[0mself\u001b[0m\u001b[0;34m.\u001b[0m\u001b[0m_save_dir\u001b[0m \u001b[0;34m=\u001b[0m \u001b[0msave_dir\u001b[0m\u001b[0;34m\u001b[0m\u001b[0;34m\u001b[0m\u001b[0m\n\u001b[1;32m    112\u001b[0m \u001b[0;34m\u001b[0m\u001b[0m\n\u001b[0;32m--> 113\u001b[0;31m         \u001b[0mself\u001b[0m\u001b[0;34m.\u001b[0m\u001b[0m_load\u001b[0m\u001b[0;34m(\u001b[0m\u001b[0;34m)\u001b[0m\u001b[0;34m\u001b[0m\u001b[0;34m\u001b[0m\u001b[0m\n\u001b[0m\u001b[1;32m    114\u001b[0m \u001b[0;34m\u001b[0m\u001b[0m\n\u001b[1;32m    115\u001b[0m     \u001b[0;32mdef\u001b[0m \u001b[0mdownload\u001b[0m\u001b[0;34m(\u001b[0m\u001b[0mself\u001b[0m\u001b[0;34m)\u001b[0m\u001b[0;34m:\u001b[0m\u001b[0;34m\u001b[0m\u001b[0;34m\u001b[0m\u001b[0m\n",
            "\u001b[0;32m/usr/local/lib/python3.9/dist-packages/dgl/data/dgl_dataset.py\u001b[0m in \u001b[0;36m_load\u001b[0;34m(self)\u001b[0m\n\u001b[1;32m    202\u001b[0m         \u001b[0;32mif\u001b[0m \u001b[0;32mnot\u001b[0m \u001b[0mload_flag\u001b[0m\u001b[0;34m:\u001b[0m\u001b[0;34m\u001b[0m\u001b[0;34m\u001b[0m\u001b[0m\n\u001b[1;32m    203\u001b[0m             \u001b[0mself\u001b[0m\u001b[0;34m.\u001b[0m\u001b[0m_download\u001b[0m\u001b[0;34m(\u001b[0m\u001b[0;34m)\u001b[0m\u001b[0;34m\u001b[0m\u001b[0;34m\u001b[0m\u001b[0m\n\u001b[0;32m--> 204\u001b[0;31m             \u001b[0mself\u001b[0m\u001b[0;34m.\u001b[0m\u001b[0mprocess\u001b[0m\u001b[0;34m(\u001b[0m\u001b[0;34m)\u001b[0m\u001b[0;34m\u001b[0m\u001b[0;34m\u001b[0m\u001b[0m\n\u001b[0m\u001b[1;32m    205\u001b[0m             \u001b[0mself\u001b[0m\u001b[0;34m.\u001b[0m\u001b[0msave\u001b[0m\u001b[0;34m(\u001b[0m\u001b[0;34m)\u001b[0m\u001b[0;34m\u001b[0m\u001b[0;34m\u001b[0m\u001b[0m\n\u001b[1;32m    206\u001b[0m             \u001b[0;32mif\u001b[0m \u001b[0mself\u001b[0m\u001b[0;34m.\u001b[0m\u001b[0mverbose\u001b[0m\u001b[0;34m:\u001b[0m\u001b[0;34m\u001b[0m\u001b[0;34m\u001b[0m\u001b[0m\n",
            "\u001b[0;32m<ipython-input-12-b0fe05d35e3f>\u001b[0m in \u001b[0;36mprocess\u001b[0;34m(self)\u001b[0m\n\u001b[1;32m     23\u001b[0m     \u001b[0mmat_path\u001b[0m\u001b[0;34m=\u001b[0m\u001b[0mself\u001b[0m\u001b[0;34m.\u001b[0m\u001b[0mraw_path\u001b[0m\u001b[0;34m+\u001b[0m\u001b[0;34m'.mat'\u001b[0m\u001b[0;34m\u001b[0m\u001b[0;34m\u001b[0m\u001b[0m\n\u001b[1;32m     24\u001b[0m     \u001b[0;31m# process data to a list of graphs and a list of labels\u001b[0m\u001b[0;34m\u001b[0m\u001b[0;34m\u001b[0m\u001b[0m\n\u001b[0;32m---> 25\u001b[0;31m     \u001b[0mself\u001b[0m\u001b[0;34m.\u001b[0m\u001b[0mgraphs\u001b[0m\u001b[0;34m,\u001b[0m\u001b[0mself\u001b[0m\u001b[0;34m.\u001b[0m\u001b[0mlabel\u001b[0m\u001b[0;34m=\u001b[0m\u001b[0mself\u001b[0m\u001b[0;34m.\u001b[0m\u001b[0m_load_graph\u001b[0m\u001b[0;34m(\u001b[0m\u001b[0mmat_path\u001b[0m\u001b[0;34m)\u001b[0m\u001b[0;34m\u001b[0m\u001b[0;34m\u001b[0m\u001b[0m\n\u001b[0m\u001b[1;32m     26\u001b[0m \u001b[0;34m\u001b[0m\u001b[0m\n\u001b[1;32m     27\u001b[0m   \u001b[0;32mdef\u001b[0m \u001b[0m_load_graph\u001b[0m\u001b[0;34m(\u001b[0m\u001b[0mself\u001b[0m\u001b[0;34m,\u001b[0m \u001b[0mfilename\u001b[0m\u001b[0;34m)\u001b[0m\u001b[0;34m:\u001b[0m\u001b[0;34m\u001b[0m\u001b[0;34m\u001b[0m\u001b[0m\n",
            "\u001b[0;32m<ipython-input-12-b0fe05d35e3f>\u001b[0m in \u001b[0;36m_load_graph\u001b[0;34m(self, filename)\u001b[0m\n\u001b[1;32m     26\u001b[0m \u001b[0;34m\u001b[0m\u001b[0m\n\u001b[1;32m     27\u001b[0m   \u001b[0;32mdef\u001b[0m \u001b[0m_load_graph\u001b[0m\u001b[0;34m(\u001b[0m\u001b[0mself\u001b[0m\u001b[0;34m,\u001b[0m \u001b[0mfilename\u001b[0m\u001b[0;34m)\u001b[0m\u001b[0;34m:\u001b[0m\u001b[0;34m\u001b[0m\u001b[0;34m\u001b[0m\u001b[0m\n\u001b[0;32m---> 28\u001b[0;31m       \u001b[0mdata\u001b[0m \u001b[0;34m=\u001b[0m \u001b[0mio\u001b[0m\u001b[0;34m.\u001b[0m\u001b[0mloadmat\u001b[0m\u001b[0;34m(\u001b[0m\u001b[0mfilename\u001b[0m\u001b[0;34m)\u001b[0m\u001b[0;34m\u001b[0m\u001b[0;34m\u001b[0m\u001b[0m\n\u001b[0m\u001b[1;32m     29\u001b[0m       \u001b[0mlabels\u001b[0m \u001b[0;34m=\u001b[0m \u001b[0mF\u001b[0m\u001b[0;34m.\u001b[0m\u001b[0mtensor\u001b[0m\u001b[0;34m(\u001b[0m\u001b[0mdata\u001b[0m\u001b[0;34m[\u001b[0m\u001b[0;34m'T'\u001b[0m\u001b[0;34m]\u001b[0m\u001b[0;34m,\u001b[0m \u001b[0mdtype\u001b[0m\u001b[0;34m=\u001b[0m\u001b[0mF\u001b[0m\u001b[0;34m.\u001b[0m\u001b[0mdata_type_dict\u001b[0m\u001b[0;34m[\u001b[0m\u001b[0;34m'float32'\u001b[0m\u001b[0;34m]\u001b[0m\u001b[0;34m)\u001b[0m\u001b[0;34m\u001b[0m\u001b[0;34m\u001b[0m\u001b[0m\n\u001b[1;32m     30\u001b[0m       \u001b[0mfeats\u001b[0m \u001b[0;34m=\u001b[0m \u001b[0mdata\u001b[0m\u001b[0;34m[\u001b[0m\u001b[0;34m'X'\u001b[0m\u001b[0;34m]\u001b[0m\u001b[0;34m\u001b[0m\u001b[0;34m\u001b[0m\u001b[0m\n",
            "\u001b[0;32m/usr/local/lib/python3.9/dist-packages/scipy/io/matlab/_mio.py\u001b[0m in \u001b[0;36mloadmat\u001b[0;34m(file_name, mdict, appendmat, **kwargs)\u001b[0m\n\u001b[1;32m    223\u001b[0m     \"\"\"\n\u001b[1;32m    224\u001b[0m     \u001b[0mvariable_names\u001b[0m \u001b[0;34m=\u001b[0m \u001b[0mkwargs\u001b[0m\u001b[0;34m.\u001b[0m\u001b[0mpop\u001b[0m\u001b[0;34m(\u001b[0m\u001b[0;34m'variable_names'\u001b[0m\u001b[0;34m,\u001b[0m \u001b[0;32mNone\u001b[0m\u001b[0;34m)\u001b[0m\u001b[0;34m\u001b[0m\u001b[0;34m\u001b[0m\u001b[0m\n\u001b[0;32m--> 225\u001b[0;31m     \u001b[0;32mwith\u001b[0m \u001b[0m_open_file_context\u001b[0m\u001b[0;34m(\u001b[0m\u001b[0mfile_name\u001b[0m\u001b[0;34m,\u001b[0m \u001b[0mappendmat\u001b[0m\u001b[0;34m)\u001b[0m \u001b[0;32mas\u001b[0m \u001b[0mf\u001b[0m\u001b[0;34m:\u001b[0m\u001b[0;34m\u001b[0m\u001b[0;34m\u001b[0m\u001b[0m\n\u001b[0m\u001b[1;32m    226\u001b[0m         \u001b[0mMR\u001b[0m\u001b[0;34m,\u001b[0m \u001b[0m_\u001b[0m \u001b[0;34m=\u001b[0m \u001b[0mmat_reader_factory\u001b[0m\u001b[0;34m(\u001b[0m\u001b[0mf\u001b[0m\u001b[0;34m,\u001b[0m \u001b[0;34m**\u001b[0m\u001b[0mkwargs\u001b[0m\u001b[0;34m)\u001b[0m\u001b[0;34m\u001b[0m\u001b[0;34m\u001b[0m\u001b[0m\n\u001b[1;32m    227\u001b[0m         \u001b[0mmatfile_dict\u001b[0m \u001b[0;34m=\u001b[0m \u001b[0mMR\u001b[0m\u001b[0;34m.\u001b[0m\u001b[0mget_variables\u001b[0m\u001b[0;34m(\u001b[0m\u001b[0mvariable_names\u001b[0m\u001b[0;34m)\u001b[0m\u001b[0;34m\u001b[0m\u001b[0;34m\u001b[0m\u001b[0m\n",
            "\u001b[0;32m/usr/lib/python3.9/contextlib.py\u001b[0m in \u001b[0;36m__enter__\u001b[0;34m(self)\u001b[0m\n\u001b[1;32m    117\u001b[0m         \u001b[0;32mdel\u001b[0m \u001b[0mself\u001b[0m\u001b[0;34m.\u001b[0m\u001b[0margs\u001b[0m\u001b[0;34m,\u001b[0m \u001b[0mself\u001b[0m\u001b[0;34m.\u001b[0m\u001b[0mkwds\u001b[0m\u001b[0;34m,\u001b[0m \u001b[0mself\u001b[0m\u001b[0;34m.\u001b[0m\u001b[0mfunc\u001b[0m\u001b[0;34m\u001b[0m\u001b[0;34m\u001b[0m\u001b[0m\n\u001b[1;32m    118\u001b[0m         \u001b[0;32mtry\u001b[0m\u001b[0;34m:\u001b[0m\u001b[0;34m\u001b[0m\u001b[0;34m\u001b[0m\u001b[0m\n\u001b[0;32m--> 119\u001b[0;31m             \u001b[0;32mreturn\u001b[0m \u001b[0mnext\u001b[0m\u001b[0;34m(\u001b[0m\u001b[0mself\u001b[0m\u001b[0;34m.\u001b[0m\u001b[0mgen\u001b[0m\u001b[0;34m)\u001b[0m\u001b[0;34m\u001b[0m\u001b[0;34m\u001b[0m\u001b[0m\n\u001b[0m\u001b[1;32m    120\u001b[0m         \u001b[0;32mexcept\u001b[0m \u001b[0mStopIteration\u001b[0m\u001b[0;34m:\u001b[0m\u001b[0;34m\u001b[0m\u001b[0;34m\u001b[0m\u001b[0m\n\u001b[1;32m    121\u001b[0m             \u001b[0;32mraise\u001b[0m \u001b[0mRuntimeError\u001b[0m\u001b[0;34m(\u001b[0m\u001b[0;34m\"generator didn't yield\"\u001b[0m\u001b[0;34m)\u001b[0m \u001b[0;32mfrom\u001b[0m \u001b[0;32mNone\u001b[0m\u001b[0;34m\u001b[0m\u001b[0;34m\u001b[0m\u001b[0m\n",
            "\u001b[0;32m/usr/local/lib/python3.9/dist-packages/scipy/io/matlab/_mio.py\u001b[0m in \u001b[0;36m_open_file_context\u001b[0;34m(file_like, appendmat, mode)\u001b[0m\n\u001b[1;32m     15\u001b[0m \u001b[0;34m@\u001b[0m\u001b[0mcontextmanager\u001b[0m\u001b[0;34m\u001b[0m\u001b[0;34m\u001b[0m\u001b[0m\n\u001b[1;32m     16\u001b[0m \u001b[0;32mdef\u001b[0m \u001b[0m_open_file_context\u001b[0m\u001b[0;34m(\u001b[0m\u001b[0mfile_like\u001b[0m\u001b[0;34m,\u001b[0m \u001b[0mappendmat\u001b[0m\u001b[0;34m,\u001b[0m \u001b[0mmode\u001b[0m\u001b[0;34m=\u001b[0m\u001b[0;34m'rb'\u001b[0m\u001b[0;34m)\u001b[0m\u001b[0;34m:\u001b[0m\u001b[0;34m\u001b[0m\u001b[0;34m\u001b[0m\u001b[0m\n\u001b[0;32m---> 17\u001b[0;31m     \u001b[0mf\u001b[0m\u001b[0;34m,\u001b[0m \u001b[0mopened\u001b[0m \u001b[0;34m=\u001b[0m \u001b[0m_open_file\u001b[0m\u001b[0;34m(\u001b[0m\u001b[0mfile_like\u001b[0m\u001b[0;34m,\u001b[0m \u001b[0mappendmat\u001b[0m\u001b[0;34m,\u001b[0m \u001b[0mmode\u001b[0m\u001b[0;34m)\u001b[0m\u001b[0;34m\u001b[0m\u001b[0;34m\u001b[0m\u001b[0m\n\u001b[0m\u001b[1;32m     18\u001b[0m     \u001b[0;32mtry\u001b[0m\u001b[0;34m:\u001b[0m\u001b[0;34m\u001b[0m\u001b[0;34m\u001b[0m\u001b[0m\n\u001b[1;32m     19\u001b[0m         \u001b[0;32myield\u001b[0m \u001b[0mf\u001b[0m\u001b[0;34m\u001b[0m\u001b[0;34m\u001b[0m\u001b[0m\n",
            "\u001b[0;32m/usr/local/lib/python3.9/dist-packages/scipy/io/matlab/_mio.py\u001b[0m in \u001b[0;36m_open_file\u001b[0;34m(file_like, appendmat, mode)\u001b[0m\n\u001b[1;32m     43\u001b[0m             \u001b[0;32mif\u001b[0m \u001b[0mappendmat\u001b[0m \u001b[0;32mand\u001b[0m \u001b[0;32mnot\u001b[0m \u001b[0mfile_like\u001b[0m\u001b[0;34m.\u001b[0m\u001b[0mendswith\u001b[0m\u001b[0;34m(\u001b[0m\u001b[0;34m'.mat'\u001b[0m\u001b[0;34m)\u001b[0m\u001b[0;34m:\u001b[0m\u001b[0;34m\u001b[0m\u001b[0;34m\u001b[0m\u001b[0m\n\u001b[1;32m     44\u001b[0m                 \u001b[0mfile_like\u001b[0m \u001b[0;34m+=\u001b[0m \u001b[0;34m'.mat'\u001b[0m\u001b[0;34m\u001b[0m\u001b[0;34m\u001b[0m\u001b[0m\n\u001b[0;32m---> 45\u001b[0;31m             \u001b[0;32mreturn\u001b[0m \u001b[0mopen\u001b[0m\u001b[0;34m(\u001b[0m\u001b[0mfile_like\u001b[0m\u001b[0;34m,\u001b[0m \u001b[0mmode\u001b[0m\u001b[0;34m)\u001b[0m\u001b[0;34m,\u001b[0m \u001b[0;32mTrue\u001b[0m\u001b[0;34m\u001b[0m\u001b[0;34m\u001b[0m\u001b[0m\n\u001b[0m\u001b[1;32m     46\u001b[0m         \u001b[0;32melse\u001b[0m\u001b[0;34m:\u001b[0m\u001b[0;34m\u001b[0m\u001b[0;34m\u001b[0m\u001b[0m\n\u001b[1;32m     47\u001b[0m             raise OSError(\n",
            "\u001b[0;31mFileNotFoundError\u001b[0m: [Errno 2] No such file or directory: '/root/.dgl/qm7b.mat'"
          ]
        }
      ]
    },
    {
      "cell_type": "markdown",
      "source": [
        "more examples of graph classification datasets:\n",
        "*  gindataset\n",
        "*  minigcdataset\n",
        "*  qm7bdata\n",
        "*  tudata"
      ],
      "metadata": {
        "id": "31w2SiRI45o7"
      }
    },
    {
      "cell_type": "markdown",
      "source": [
        "## Processing Node Classification datasets\n",
        "\n",
        "Different from graph classification, node classification is typically on a single graph. As such, splits of the dataset are on the nodes of the graph. DGL recommends using node masks to specify the splits.\n",
        "\n",
        "In addition, DGL recommends re-arrange the nodes and edges so that nodes near to each other have IDs in a close range. The procedure could improve the locality to access a node’s neighbors, which may benefit follow-up computation and analysis conducted on the graph. DGL provides an API called \n",
        "``` \n",
        "dgl.reorder_graph() \n",
        "\n",
        "``` \n",
        "for this purpose. "
      ],
      "metadata": {
        "id": "uknA8qr95MNz"
      }
    },
    {
      "cell_type": "code",
      "source": [
        "from dgl.data import DGLBuiltinDataset\n",
        "from dgl.data.utils import _get_dgl_url\n",
        "\n",
        "class CitationGraphDataset(DGLBuiltinDataset):\n",
        "  _urls={\n",
        "      'cora_v2':'dataset/core_v2.zip',\n",
        "      'citiseer':'dataset/citeseer.zip',\n",
        "      'pubmed':'dataset/pubmed.zip',\n",
        "  }\n",
        "\n",
        "  def __init__(self,name,raw_dir=None,force_reload=False,verbose=True):\n",
        "    assert name.lower() in ['cora','citeseer','pubmed']\n",
        "    if name.lower()=='cora':\n",
        "      name='cora_v2'\n",
        "    url=_get_dgl_url(self._urls[name])\n",
        "    super(CitationGraphDataset,self).__init__(\n",
        "        name,\n",
        "        url=url,\n",
        "        raw_dir=raw_dir,\n",
        "        force_reload=force_reload,\n",
        "        verbose=verbose)\n",
        "    \n",
        "  def process(self):\n",
        "    # skip some processing code\n",
        "    # ===data processing skipped===\n",
        "\n",
        "    # build graph\n",
        "    g=dgl.graph(graph)\n",
        "    # splitting masks\n",
        "    g.ndata['train_mask']=train_mask\n",
        "    g.ndata['val_mask']=val_mask\n",
        "    g.ndata['test_mask']=test_mask\n",
        "    # node labels\n",
        "    # node labels\n",
        "    g.ndata['label']=torch.tensor(labels)\n",
        "    # node features\n",
        "    g.ndata['feat']=torch.tensor(_preprocess_features(feature),\n",
        "                  dtype=F.data_type_dict['float32'])\n",
        "    self._num_tasks=onehot_labels.shape[1]\n",
        "    self._labels=labels\n",
        "    # reorder graph to obtain better locality.\n",
        "    self._g=dgl.reorder_graph(g)\n",
        "  \n",
        "  def __getitem__(self,idx):\n",
        "    assert idx==0,\"This dataset has only one graph\"\n",
        "    return self._g\n",
        "\n",
        "  def _len_(self):\n",
        "    return 1"
      ],
      "metadata": {
        "id": "A55ps1Df6T_B"
      },
      "execution_count": null,
      "outputs": []
    },
    {
      "cell_type": "markdown",
      "source": [
        "For brevity, this section skips some code in process() to highlight the key part for processing node classification dataset: splitting masks. Node features and node labels are stored in g.ndata. For detailed implementation, please refer to CitationGraphDataset source code.\n",
        "\n",
        "Note that the implementations of __getitem__(idx) and __len__() are changed as well, since there is often only one graph for node classification tasks. The masks are bool tensors in PyTorch and TensorFlow, and float tensors in MXNet."
      ],
      "metadata": {
        "id": "pQ8OGvb-9cNj"
      }
    },
    {
      "cell_type": "code",
      "source": [
        "# use a subclass of CitationGraphDataset,dgl.data.CitesserGraphDataset\n",
        "\n",
        "# Load data\n",
        "dataset=CiteseerGraphDataset(raw_dir='')\n",
        "graph=dataset[0]\n",
        "\n",
        "# get split masks\n",
        "train_mask=graph.ndata['train_mask']\n",
        "val_mask=graph.ndata['val_mask']\n",
        "test_mask=graph.ndata['test_mask']\n",
        "\n",
        "# get node feature\n",
        "feats=graph.ndata['feat']\n",
        "\n",
        "# get labels\n",
        "labels=graph.ndata['label']"
      ],
      "metadata": {
        "id": "P5x40mYQ-CpN"
      },
      "execution_count": null,
      "outputs": []
    },
    {
      "cell_type": "markdown",
      "source": [
        "## Processing dataset for Link Prediction datasets\n",
        "\n",
        "The processing of link prediction datasets is similar to that for node classification’s, there is often one graph in the dataset.\n",
        "\n",
        "The section uses builtin dataset KnowledgeGraphDataset as an example, and still skips the detailed data processing code to highlight the key part for processing link prediction datasets:"
      ],
      "metadata": {
        "id": "OIgmmG18_AUN"
      }
    },
    {
      "cell_type": "code",
      "source": [
        "# example for creating link prediction datasets\n",
        "class KnowledgeGraphDataset(DGLBuiltinDataset):\n",
        "  def __init__(self,name,reverse=True,raw_dir=None,force_reload=False,verbose=True):\n",
        "    self.name=name\n",
        "    self.reverse=reverse\n",
        "    url=_get_dgl_url('dataset/')+'{}.tgz'.format(name)\n",
        "    super(KnowledgeGraphDataset,self).__init__(name,\n",
        "                          url=url,\n",
        "                          raw_dir=raw_dir,\n",
        "                          force_reload=force_reload,\n",
        "                          verbose=verbose)\n",
        "  \n",
        "  def process(self):\n",
        "    # skip some process code\n",
        "    # ==data processing skipped==\n",
        "\n",
        "    # splitting mask\n",
        "    g.edata['train_mask']=train_mask\n",
        "    g.edata['val_mask']=val_mask\n",
        "    g.edata['test_mask']=test_mask\n",
        "    # edge type\n",
        "    g.edata['etype']=etype\n",
        "    # node type\n",
        "    g.ndata['ntype']=ntype\n",
        "    self._g=g\n",
        "\n",
        "  def __getitem__(self,idx):\n",
        "    assert idx==0,\"This dataset has only one graph\"\n",
        "    return self._g\n",
        "  \n",
        "  def __len__(self):\n",
        "    return 1"
      ],
      "metadata": {
        "id": "Sg-QCCjG_Yd8"
      },
      "execution_count": null,
      "outputs": []
    },
    {
      "cell_type": "code",
      "source": [
        "# use a subclass of KnowledgeGraphDataset, dgl.data.FB15k237Dataset\n",
        "\n",
        "from dgl.data import FB15k237Dataset\n",
        "\n",
        "# load data\n",
        "dataset=FB15k237Dataset()\n",
        "graph=dataset[0]\n",
        "\n",
        "# get training mask\n",
        "train_mask=graph.edata['train_mask']\n",
        "train_inx=torch.nonzero(train_mask,as_tuple=Flase).squeeze()\n",
        "src,dst=graph.edges(train_idx)\n",
        "# get edge types in training set\n",
        "rel=graph.edata['etype'][train_idx]\n"
      ],
      "metadata": {
        "id": "kUx2_i-KBji5"
      },
      "execution_count": null,
      "outputs": []
    },
    {
      "cell_type": "markdown",
      "source": [
        "# 4.5 Save and load data\n",
        "\n",
        "DGL recommends implementing saving and loading functions to cache the processed data in local disk. This saves a lot of data processing time in most cases. DGL provides four functions to make things simple:\n",
        "\n",
        "*  dgl.save_graphs() and dgl.load_graphs(): save/load DGLGraph objects and labels to/from local disk.\n",
        "\n",
        "*  dgl.data.utils.save_info() and dgl.data.utils.load_info(): save/load useful information of the dataset (python dict object) to/from local disk."
      ],
      "metadata": {
        "id": "wuDRRmtFCVEQ"
      }
    },
    {
      "cell_type": "code",
      "source": [
        "# example to show how to save and load a list of graphs and dataset information\n",
        "import os\n",
        "from dgl import save_graphs,load_graphs\n",
        "from dgl.data.utils import makedirs,save_info,load_info\n",
        "\n",
        "def save(self):\n",
        "  # save graphs and labels\n",
        "  graph_path=os.path.join(self.save_path,self.mode+'_dgl_graph.bin')\n",
        "  save_graph(graph_path,self.graphs,{'labels':self.labels})\n",
        "  # save other information in python dict\n",
        "  info_path=os.path.join(self.save_path,self.mode+'_info.pkl')\n",
        "  save_info(info_path,{'num_classes':self.num_classes})\n",
        "\n",
        "def load(self):\n",
        "    # load processed data from directory `self.save_path`\n",
        "    graph_path = os.path.join(self.save_path, self.mode + '_dgl_graph.bin')\n",
        "    self.graphs, label_dict = load_graphs(graph_path)\n",
        "    self.labels = label_dict['labels']\n",
        "    info_path = os.path.join(self.save_path, self.mode + '_info.pkl')\n",
        "    self.num_classes = load_info(info_path)['num_classes']\n",
        "\n",
        "def has_cache(self):\n",
        "    # check whether there are processed data in `self.save_path`\n",
        "    graph_path = os.path.join(self.save_path, self.mode + '_dgl_graph.bin')\n",
        "    info_path = os.path.join(self.save_path, self.mode + '_info.pkl')\n",
        "    return os.path.exists(graph_path) and os.path.exists(info_path)"
      ],
      "metadata": {
        "id": "lZKE3yY2CrOD"
      },
      "execution_count": null,
      "outputs": []
    },
    {
      "cell_type": "markdown",
      "source": [
        "Note that there are cases not suitable to save processed data. For example, in the builtin dataset GDELTDataset, the processed data is quite large, so it’s more effective to process each data example in __getitem__(idx)."
      ],
      "metadata": {
        "id": "7JhepXqGElR_"
      }
    },
    {
      "cell_type": "markdown",
      "source": [
        "## Loading OGB datasets using obg package\n",
        "\n",
        "Open Graph Benchmark (OGB) is a collection of benchmark datasets. The official OGB package ogb provides APIs for downloading and processing OGB datasets into dgl.data.DGLGraph objects. The section introduce their basic usage here.\n",
        "\n",
        "First install ogb package using pip:\n",
        "```\n",
        "pip install ogb\n",
        "```"
      ],
      "metadata": {
        "id": "6lVkmOnKE0Wz"
      }
    },
    {
      "cell_type": "code",
      "source": [
        "# example to show how to load datasets for Graph Property Prediction tasks.\n",
        "# Load Graph Property Prediction datasets in OGB\n",
        "import dgl\n",
        "import torch\n",
        "from ogb.graphproppred import DglGraphPropPredDataset\n",
        "from dgl.dataloading import GraphDataLoader\n",
        "\n",
        "\n",
        "def _collate_fn(batch):\n",
        "    # batch is a list of tuple (graph, label)\n",
        "    graphs = [e[0] for e in batch]\n",
        "    g = dgl.batch(graphs)\n",
        "    labels = [e[1] for e in batch]\n",
        "    labels = torch.stack(labels, 0)\n",
        "    return g, labels\n",
        "\n",
        "# load dataset\n",
        "dataset = DglGraphPropPredDataset(name='ogbg-molhiv')\n",
        "split_idx = dataset.get_idx_split()\n",
        "# dataloader\n",
        "train_loader = GraphDataLoader(dataset[split_idx[\"train\"]], batch_size=32, shuffle=True, collate_fn=_collate_fn)\n",
        "valid_loader = GraphDataLoader(dataset[split_idx[\"valid\"]], batch_size=32, shuffle=False, collate_fn=_collate_fn)\n",
        "test_loader = GraphDataLoader(dataset[split_idx[\"test\"]], batch_size=32, shuffle=False, collate_fn=_collate_fn)"
      ],
      "metadata": {
        "id": "YirgvFapFPVn"
      },
      "execution_count": null,
      "outputs": []
    },
    {
      "cell_type": "markdown",
      "source": [
        "Loading Node Property Prediction datasets is similar, but note that there is only one graph object in this kind of dataset"
      ],
      "metadata": {
        "id": "wo6De4YWGS-v"
      }
    },
    {
      "cell_type": "code",
      "source": [
        "# Load Node Property Prediction datasets in OGB\n",
        "from ogb.nodeproppred import DglNodePropPredDataset\n",
        "\n",
        "dataset = DglNodePropPredDataset(name='ogbn-proteins')\n",
        "split_idx = dataset.get_idx_split()\n",
        "\n",
        "# there is only one graph in Node Property Prediction datasets\n",
        "g, labels = dataset[0]\n",
        "# get split labels\n",
        "train_label = dataset.labels[split_idx['train']]\n",
        "valid_label = dataset.labels[split_idx['valid']]\n",
        "test_label = dataset.labels[split_idx['test']]"
      ],
      "metadata": {
        "id": "BY_7bcCTGfc-"
      },
      "execution_count": null,
      "outputs": []
    },
    {
      "cell_type": "markdown",
      "source": [
        "Link Property Prediction datasets also contain one graph per dataset."
      ],
      "metadata": {
        "id": "m0ALS6iEGtuq"
      }
    },
    {
      "cell_type": "code",
      "source": [
        "# Load Link Property Prediction datasets in OGB\n",
        "from ogb.linkproppred import DglLinkPropPredDataset\n",
        "\n",
        "dataset = DglLinkPropPredDataset(name='ogbl-ppa')\n",
        "split_edge = dataset.get_edge_split()\n",
        "\n",
        "graph = dataset[0]\n",
        "print(split_edge['train'].keys())\n",
        "print(split_edge['valid'].keys())\n",
        "print(split_edge['test'].keys())"
      ],
      "metadata": {
        "id": "QjEzyd6OGvRc"
      },
      "execution_count": null,
      "outputs": []
    },
    {
      "cell_type": "markdown",
      "source": [
        "# 4.6 Loading data from CSV files\n",
        "\n",
        "Comma Separated Value (CSV) is a widely used data storage format. DGL provides CSVDataset for loading and parsing graph data stored in CSV format.\n",
        "\n",
        "To create a CSVDataset object:\n",
        "```\n",
        "import dgl\n",
        "ds=dgl.data.CSVDataset('/path/to/dataset')\n",
        "```\n",
        "\n",
        "The returned ds object is a standard DGLDataset. For example, one can get graph samples using __getitem__ as well as node/edge features using ndata/edata."
      ],
      "metadata": {
        "id": "5aBGp03GHSPx"
      }
    },
    {
      "cell_type": "code",
      "source": [
        "# A demonstration of how to use the loaded dataset. The feature names\n",
        "# may vary depending on the CSV contents.\n",
        "g = ds[0] # get the graph\n",
        "label = g.ndata['label']\n",
        "feat = g.ndata['feat']"
      ],
      "metadata": {
        "id": "P8iBencgHaFm"
      },
      "execution_count": null,
      "outputs": []
    },
    {
      "cell_type": "markdown",
      "source": [
        "## Data folder structure\n",
        "\n",
        "```\n",
        "/path/to/dataset/\n",
        "|-- meta.yaml     # metadata of the dataset\n",
        "|-- edges_0.csv   # edge data including src_id, dst_id, feature, label and so on\n",
        "|-- ...           # you can have as many CSVs for edge data as you want\n",
        "|-- nodes_0.csv   # node data including node_id, feature, label and so on\n",
        "|-- ...           # you can have as many CSVs for node data as you want\n",
        "|-- graphs.csv    # graph-level features\n",
        "```\n",
        "Node/edge/graph-level data are stored in CSV files. meta.yaml is a metadata file specifying where to read nodes/edges/graphs data and how to parse them to construct the dataset object. A minimal data folder contains one meta.yaml and two CSVs, one for node data and one for edge data, in which case the dataset contains only a single graph with no graph-level data."
      ],
      "metadata": {
        "id": "wrYbVjdVH3lS"
      }
    },
    {
      "cell_type": "markdown",
      "source": [
        "## Dataset of a single feature-less graph\n",
        "\n",
        "When the dataset contains only one graph with no node or edge features, there need only three files in the data folder: meta.yaml, one CSV for node IDs and one CSV for edges:\n",
        "\n",
        "```\n",
        "./mini_featureless_dataset/\n",
        "|-- meta.yaml\n",
        "|-- nodes.csv\n",
        "|-- edges.csv\n",
        "```\n",
        "meta.yaml contains the following information:\n",
        "```\n",
        "dataset_name: mini_featureless_dataset\n",
        "edge_data:\n",
        "- file_name: edges.csv\n",
        "node_data:\n",
        "- file_name: nodes.csv\n",
        "```\n",
        "nodes.csv lists the node IDs under the node_id field:\n",
        "```\n",
        "node_id\n",
        "0\n",
        "1\n",
        "2\n",
        "3\n",
        "4\n",
        "```\n",
        "edges.csv lists all the edges in two columns (src_id and dst_id) specifying the source and destination node ID of each edge:\n",
        "```\n",
        "src_id,dst_id\n",
        "4,4\n",
        "4,1\n",
        "3,0\n",
        "4,1\n",
        "4,0\n",
        "1,2\n",
        "1,3\n",
        "3,3\n",
        "1,1\n",
        "4,1\n",
        "```\n",
        "After loaded, the dataset has one graph without any features:\n"
      ],
      "metadata": {
        "id": "egnMxNBwIUp2"
      }
    },
    {
      "cell_type": "code",
      "source": [
        "import dgl\n",
        "dataset = dgl.data.CSVDataset('./mini_featureless_dataset')\n",
        "g = dataset[0]  # only one graph\n",
        "print(g)"
      ],
      "metadata": {
        "id": "ZeGcVo-JI4Gu"
      },
      "execution_count": null,
      "outputs": []
    },
    {
      "cell_type": "markdown",
      "source": [
        "__Note__:Non-integer node IDs are allowed. When constructing the graph, CSVDataset will map each raw ID to an integer ID starting from zero. If the node IDs are already distinct integers from 0 to num_nodes-1, no mapping is applied.\n",
        "\n",
        "__Note__:Edges are always directed. To have both directions, add reversed edges in the edge CSV file or use AddReverse to transform the loaded graph."
      ],
      "metadata": {
        "id": "XkYGORc2I8E1"
      }
    },
    {
      "cell_type": "markdown",
      "source": [
        "## Dataset of a single graph with features and labels\n",
        "\n",
        "When the dataset contains a single graph with node or edge features and labels, there still need only three files in the data folder: meta.yaml, one CSV for node IDs and one CSV for edges:\n",
        "```\n",
        "./mini_feature_dataset/\n",
        "|-- meta.yaml\n",
        "|-- nodes.csv\n",
        "|-- edges.csv\n",
        "```\n",
        "meta.yaml:\n",
        "```\n",
        "dataset_name: mini_feature_dataset\n",
        "edge_data:\n",
        "- file_name: edges.csv\n",
        "node_data:\n",
        "- file_name: nodes.csv\n",
        "```\n",
        "edges.csv with five synthetic edge data (label, train_mask, val_mask, test_mask, feat):\n",
        "```\n",
        "src_id,dst_id,label,train_mask,val_mask,test_mask,feat\n",
        "4,0,2,False,True,True,\"0.5477868606453535, 0.4470617033458436, 0.936706701616337\"\n",
        "4,0,0,False,False,True,\"0.9794634290792008, 0.23682038840665198, 0.049629338970987646\"\n",
        "0,3,1,True,True,True,\"0.8586722047523594, 0.5746912787380253, 0.6462162561249654\"\n",
        "0,1,2,True,False,False,\"0.2730008213674695, 0.5937484188166621, 0.765544096939567\"\n",
        "0,2,1,True,True,True,\"0.45441619816038514, 0.1681403185591509, 0.9952376085297715\"\n",
        "0,0,0,False,False,False,\"0.4197669213305396, 0.849983324532477, 0.16974127573016262\"\n",
        "2,2,1,False,True,True,\"0.5495035052928215, 0.21394654203489705, 0.7174910641836348\"\n",
        "1,0,2,False,True,False,\"0.008790817766266334, 0.4216530595907526, 0.529195480661293\"\n",
        "3,0,0,True,True,True,\"0.6598715708878852, 0.1932390907048961, 0.9774471538377553\"\n",
        "4,0,1,False,False,False,\"0.16846068931179736, 0.41516080644186737, 0.002158116134429955\"\n",
        "```\n",
        "nodes.csv with five synthetic node data (label, train_mask, val_mask, test_mask, feat):\n",
        "\n",
        "```\n",
        "node_id,label,train_mask,val_mask,test_mask,feat\n",
        "0,1,False,True,True,\"0.07816474278491703, 0.9137336384979067, 0.4654086994009452\"\n",
        "1,1,True,True,True,\"0.05354099924658973, 0.8753101998792645, 0.33929432608774135\"\n",
        "2,1,True,False,True,\"0.33234211884156384, 0.9370522452510665, 0.6694943496824788\"\n",
        "3,0,False,True,False,\"0.9784264442230887, 0.22131880861864428, 0.3161154827254189\"\n",
        "4,1,True,True,False,\"0.23142237259162102, 0.8715767748481147, 0.19117861103555467\"\n",
        "```\n",
        "After loaded, the dataset has one graph. Node/edge features are stored in ndata and edata with the same column names. The example demonstrates how to specify a vector-shaped feature using comma-separated list enclosed by double quotes \"...\".\n",
        "\n"
      ],
      "metadata": {
        "id": "A14fv3oKJTys"
      }
    },
    {
      "cell_type": "code",
      "source": [
        "import dgl\n",
        "dataset = dgl.data.CSVDataset('./mini_feature_dataset')\n",
        "g = dataset[0]  # only one graph\n",
        "print(g)"
      ],
      "metadata": {
        "id": "Kp5Nu7rCKFHM"
      },
      "execution_count": null,
      "outputs": []
    },
    {
      "cell_type": "markdown",
      "source": [
        "__Note__:By default, CSVDatatset assumes all feature data to be numerical values (e.g., int, float, bool or list) and missing values are not allowed. Users could provide custom data parser for these cases."
      ],
      "metadata": {
        "id": "P0Ko6UOKKR3k"
      }
    },
    {
      "cell_type": "markdown",
      "source": [
        "## Dataset of a single heterogeneous graph\n",
        "\n",
        "One can specify multiple node and edge CSV files (each for one type) to represent a heterogeneous graph. Here is an example data with two node types and two edge types:\n",
        "\n",
        "```\n",
        "./mini_hetero_dataset/\n",
        "|-- meta.yaml\n",
        "|-- nodes_0.csv\n",
        "|-- nodes_1.csv\n",
        "|-- edges_0.csv\n",
        "|-- edges_1.csv\n",
        "```\n",
        "The meta.yaml specifies the node type name (using ntype) and edge type name (using etype) of each CSV file. The edge type name is a string triplet containing the source node type name, relation name and the destination node type name.\n",
        "\n",
        "```\n",
        "dataset_name: mini_hetero_dataset\n",
        "edge_data:\n",
        "- file_name: edges_0.csv\n",
        "  etype: [user, follow, user]\n",
        "- file_name: edges_1.csv\n",
        "  etype: [user, like, item]\n",
        "node_data:\n",
        "- file_name: nodes_0.csv\n",
        "  ntype: user\n",
        "- file_name: nodes_1.csv\n",
        "  ntype: item\n",
        "```\n",
        "\n",
        "The node and edge CSV files follow the same format as in homogeneous graphs. Here are some synthetic data for demonstration purposes:\n",
        "\n",
        "edges_0.csv and edges_1.csv:\n",
        "\n",
        "```\n",
        "src_id,dst_id,label,feat\n",
        "4,4,1,\"0.736833152378035,0.10522806046048205,0.9418796835016118\"\n",
        "3,4,2,\"0.5749339182767451,0.20181320245665535,0.490938012147181\"\n",
        "1,4,2,\"0.7697294432580938,0.49397782380750765,0.10864079337442234\"\n",
        "0,4,0,\"0.1364240150959487,0.1393107840629273,0.7901988878812207\"\n",
        "2,3,1,\"0.42988138237505735,0.18389137408509248,0.18431292077750894\"\n",
        "0,4,2,\"0.8613368738351794,0.67985810014162,0.6580438064356824\"\n",
        "2,4,1,\"0.6594951663841697,0.26499036865016423,0.7891429392727503\"\n",
        "4,1,0,\"0.36649684241348557,0.9511783938523962,0.8494919263589972\"\n",
        "1,1,2,\"0.698592283371875,0.038622249776255946,0.5563827995742111\"\n",
        "0,4,1,\"0.5227112950269823,0.3148264185956532,0.47562693094002173\"\n",
        "```\n",
        "\n",
        "nodes_0.csv and nodes_1.csv:\n",
        "\n",
        "```\n",
        "node_id,label,feat\n",
        "0,2,\"0.5400687466285844,0.7588441197954202,0.4268254673041745\"\n",
        "1,1,\"0.08680051341900807,0.11446843700743892,0.7196969604886617\"\n",
        "2,2,\"0.8964389655603473,0.23368113896545695,0.8813472954005022\"\n",
        "3,1,\"0.5454703921677284,0.7819383771535038,0.3027939452162367\"\n",
        "4,1,\"0.5365210052235699,0.8975240205792763,0.7613943085507672\"\n",
        "```\n",
        "\n",
        "After loaded, the dataset has one heterograph with features and labels:\n"
      ],
      "metadata": {
        "id": "Avh2pNzXKWec"
      }
    },
    {
      "cell_type": "code",
      "source": [
        "import dgl\n",
        "dataset = dgl.data.CSVDataset('./mini_hetero_dataset')\n",
        "g = dataset[0]  # only one graph\n",
        "print(g)\n",
        "g.nodes['user'].data\n",
        "g.edges['like'].data"
      ],
      "metadata": {
        "id": "FVGIzWyhLFZl"
      },
      "execution_count": null,
      "outputs": []
    },
    {
      "cell_type": "markdown",
      "source": [
        "## Dataset of multiple graphs\n",
        "\n",
        "When there are multiple graphs, one can include an additional CSV file for storing graph-level features. Here is an example:\n",
        "\n",
        "```\n",
        "./mini_multi_dataset/\n",
        "|-- meta.yaml\n",
        "|-- nodes.csv\n",
        "|-- edges.csv\n",
        "|-- graphs.csv\n",
        "```\n",
        "Accordingly, the meta.yaml should include an extra graph_data key to tell which CSV file to load graph-level features from.\n",
        "```\n",
        "dataset_name: mini_multi_dataset\n",
        "edge_data:\n",
        "- file_name: edges.csv\n",
        "node_data:\n",
        "- file_name: nodes.csv\n",
        "graph_data:\n",
        "  file_name: graphs.csv\n",
        "```\n",
        "To distinguish nodes and edges of different graphs, the node.csv and edge.csv must contain an extra column graph_id:\n",
        "\n",
        "edges.csv:\n",
        "```\n",
        "graph_id,src_id,dst_id,feat\n",
        "0,0,4,\"0.39534097273254654,0.9422093637539785,0.634899790318452\"\n",
        "0,3,0,\"0.04486384200747007,0.6453746567017163,0.8757520744192612\"\n",
        "0,3,2,\"0.9397636966928355,0.6526403892728874,0.8643238446466464\"\n",
        "0,1,1,\"0.40559906615287566,0.9848072295736628,0.493888090726854\"\n",
        "0,4,1,\"0.253458867276219,0.9168191778828504,0.47224962583565544\"\n",
        "0,0,1,\"0.3219496197945605,0.3439899477636117,0.7051530741717352\"\n",
        "0,2,1,\"0.692873149428549,0.4770019763881086,0.21937428942781778\"\n",
        "0,4,0,\"0.620118223673067,0.08691420300562658,0.86573472329756\"\n",
        "0,2,1,\"0.00743445923710373,0.5251800239734318,0.054016385555202384\"\n",
        "0,4,1,\"0.6776417760682221,0.7291568018841328,0.4523600060547709\"\n",
        "1,1,3,\"0.6375445528248924,0.04878384701995819,0.4081642382536248\"\n",
        "1,0,4,\"0.776002616178397,0.8851294998284638,0.7321742043493028\"\n",
        "1,1,0,\"0.0928555079874982,0.6156748364694707,0.6985674921582508\"\n",
        "1,0,2,\"0.31328748118329997,0.8326121496142408,0.04133991340612775\"\n",
        "1,1,0,\"0.36786902637778773,0.39161865931662243,0.9971749359397111\"\n",
        "1,1,1,\"0.4647410679872376,0.8478810655406659,0.6746269314422184\"\n",
        "1,0,2,\"0.8117650553546695,0.7893727601272978,0.41527155506593394\"\n",
        "1,1,3,\"0.40707309111756307,0.2796588354307046,0.34846782265758314\"\n",
        "1,1,0,\"0.18626464175355095,0.3523777809254057,0.7863421810531344\"\n",
        "1,3,0,\"0.28357022069634585,0.13774964202156292,0.5913335505943637\"\n",
        "```\n",
        "nodes.csv:\n",
        "```\n",
        "graph_id,node_id,feat\n",
        "0,0,\"0.5725330322207948,0.8451870383322376,0.44412796119211184\"\n",
        "0,1,\"0.6624186423087752,0.6118386331195641,0.7352138669985214\"\n",
        "0,2,\"0.7583372765843964,0.15218126307872892,0.6810484348765842\"\n",
        "0,3,\"0.14627522432017592,0.7457985352827006,0.1037097085190507\"\n",
        "0,4,\"0.49037522512771525,0.8778998699783784,0.0911194482288028\"\n",
        "1,0,\"0.11158102039672668,0.08543289788089736,0.6901745368284345\"\n",
        "1,1,\"0.28367647637469273,0.07502571020414439,0.01217200152200748\"\n",
        "1,2,\"0.2472495901894738,0.24285506608575758,0.6494437360242048\"\n",
        "1,3,\"0.5614197853127827,0.059172654879085296,0.4692371689047904\"\n",
        "1,4,\"0.17583413999295983,0.5191278830882644,0.8453123358491914\"\n",
        "```\n",
        "The graphs.csv contains a graph_id column and arbitrary number of feature columns. The example dataset here has two graphs, each with a feat and a label graph-level data.\n",
        "\n",
        "```\n",
        "graph_id,feat,label\n",
        "0,\"0.7426272601929126,0.5197462471155317,0.8149104951283953\",0\n",
        "1,\"0.534822233529295,0.2863627767733977,0.1154897249106891\",0\n",
        "```\n",
        "After loaded, the dataset has multiple homographs with features and labels:\n",
        "\n"
      ],
      "metadata": {
        "id": "fr97H4iuLeAH"
      }
    },
    {
      "cell_type": "code",
      "source": [
        "import dgl\n",
        "dataset = dgl.data.CSVDataset('./mini_multi_dataset')\n",
        "print(len(dataset))\n",
        "graph0, data0 = dataset[0]\n",
        "print(graph0)\n",
        "print(data0)\n",
        "graph1, data1 = dataset[1]\n",
        "print(graph1)\n",
        "print(data1)"
      ],
      "metadata": {
        "id": "iTl34ytKMDgM"
      },
      "execution_count": null,
      "outputs": []
    },
    {
      "cell_type": "markdown",
      "source": [
        "## Custom Data Parser\n",
        "\n",
        "By default, CSVDataset assumes that all the stored node-/edge-/graph- level data are numerical values. Users can provide custom DataParser to CSVDataset to handle more complex data type. A DataParser needs to implement the __call__ method which takes in the pandas.DataFrame object created from CSV file and should return a dictionary of parsed feature data. The parsed feature data will be saved to the ndata and edata of the corresponding DGLGraph object, and thus must be tensors or numpy arrays. Below shows an example DataParser which converts string type labels to integers:\n",
        "\n",
        "Given a dataset as follows,\n",
        "```\n",
        "./customized_parser_dataset/\n",
        "|-- meta.yaml\n",
        "|-- nodes.csv\n",
        "|-- edges.csv\n",
        "```\n",
        "\n",
        "meta.yaml:\n",
        "```\n",
        "dataset_name: customized_parser_dataset\n",
        "edge_data:\n",
        "- file_name: edges.csv\n",
        "node_data:\n",
        "- file_name: nodes.csv\n",
        "```\n",
        "edges.csv:\n",
        "```\n",
        "src_id,dst_id,label\n",
        "4,0,positive\n",
        "4,0,negative\n",
        "0,3,positive\n",
        "0,1,positive\n",
        "0,2,negative\n",
        "0,0,positive\n",
        "2,2,negative\n",
        "1,0,positive\n",
        "3,0,negative\n",
        "4,0,positive\n",
        "```\n",
        "nodes.csv:\n",
        "```\n",
        "node_id,label\n",
        "0,positive\n",
        "1,negative\n",
        "2,positive\n",
        "3,negative\n",
        "4,positive\n",
        "```\n",
        "To parse the string type labels, one can define a DataParser class as follows:\n"
      ],
      "metadata": {
        "id": "l0OOIaq-cH_7"
      }
    },
    {
      "cell_type": "code",
      "source": [
        "import numpy as np\n",
        "import pandas as pd\n",
        "\n",
        "class MyDataParser:\n",
        "    def __call__(self, df: pd.DataFrame):\n",
        "        parsed = {}\n",
        "        for header in df:\n",
        "            if 'Unnamed' in header:  # Handle Unnamed column\n",
        "                print(\"Unamed column is found. Ignored...\")\n",
        "                continue\n",
        "            dt = df[header].to_numpy().squeeze()\n",
        "            if header == 'label':\n",
        "                dt = np.array([1 if e == 'positive' else 0 for e in dt])\n",
        "            parsed[header] = dt\n",
        "        return parsed"
      ],
      "metadata": {
        "id": "kP-U7keIeS0f"
      },
      "execution_count": null,
      "outputs": []
    },
    {
      "cell_type": "markdown",
      "source": [
        "Create a CSVDataset using the defined DataParser:"
      ],
      "metadata": {
        "id": "tR0tk0ZbfUit"
      }
    },
    {
      "cell_type": "code",
      "source": [
        "import dgl\n",
        "dataset = dgl.data.CSVDataset('./customized_parser_dataset',\n",
        "                              ndata_parser=MyDataParser(),\n",
        "                              edata_parser=MyDataParser())\n",
        "print(dataset[0].ndata['label'])\n",
        "print(dataset[0].edata['label'])"
      ],
      "metadata": {
        "id": "P1KHyGuHfYkG"
      },
      "execution_count": null,
      "outputs": []
    },
    {
      "cell_type": "markdown",
      "source": [
        "__Note__:To specify different DataParsers for different node/edge types, pass a dictionary to ndata_parser and edata_parser, where the key is type name (a single string for node type; a string triplet for edge type) and the value is the DataParser to use."
      ],
      "metadata": {
        "id": "cT6fChU9ffn6"
      }
    },
    {
      "cell_type": "markdown",
      "source": [
        "## Full YAML Specification\n",
        "\n",
        "CSVDataset allows more flexible control over the loading and parsing process. For example, one can change the ID column names via meta.yaml. The example below lists all the supported keys.\n",
        "\n",
        "```\n",
        "version: 1.0.0\n",
        "dataset_name: some_complex_data\n",
        "separator: ','                   # CSV separator symbol. Default: ','\n",
        "edge_data:\n",
        "- file_name: edges_0.csv\n",
        "  etype: [user, follow, user]\n",
        "  src_id_field: src_id           # Column name for source node IDs. Default: src_id\n",
        "  dst_id_field: dst_id           # Column name for destination node IDs. Default: dst_id\n",
        "- file_name: edges_1.csv\n",
        "  etype: [user, like, item]\n",
        "  src_id_field: src_id\n",
        "  dst_id_field: dst_id\n",
        "node_data:\n",
        "- file_name: nodes_0.csv\n",
        "  ntype: user\n",
        "  node_id_field: node_id         # Column name for node IDs. Default: node_id\n",
        "- file_name: nodes_1.csv\n",
        "  ntype: item\n",
        "  node_id_field: node_id         # Column name for node IDs. Default: node_id\n",
        "graph_data:\n",
        "  file_name: graphs.csv\n",
        "  graph_id_field: graph_id       # Column name for graph IDs. Default: graph_id\n",
        "```\n",
        "## Top-level\n",
        "\n",
        "At the top level, only 6 keys are available:\n",
        "\n",
        "*  version: Optional. String. It specifies which version of meta.yaml is used. More feature may be added in the future.\n",
        "*  dataset_name: Required. String. It specifies the dataset name.\n",
        "*  separator: Optional. String. It specifies how to parse data in CSV files. Default: ','.\n",
        "*  edge_data: Required. List of EdgeData. Meta data for parsing edge CSV files.\n",
        "*  node_data: Required. List of NodeData. Meta data for parsing node CSV files.\n",
        "*  graph_data: Optional. GraphData. Meta data for parsing the graph CSV file.\n",
        "\n",
        "EdgeData\n",
        "\n",
        "*  file_name: Required. String. The CSV file to load data from.\n",
        "*  etype: Optional. List of string. Edge type name in string triplet: [source node type, relation type, destination node type].\n",
        "*  src_id_field: Optional. String. Which column to read for source node IDs. Default: src_id.\n",
        "*  dst_id_field: Optional. String. Which column to read for destination node IDs. Default: dst_id.\n",
        "\n",
        "NodeData\n",
        "\n",
        "*  file_name: Required. String. The CSV file to load data from.\n",
        "*  ntype: Optional. String. Node type name.\n",
        "*  node_id_field: Optional. String. Which column to read for node IDs. Default: node_id.\n",
        "\n",
        "GraphData\n",
        "\n",
        "*  file_name: Required. String. The CSV file to load data from.\n",
        "*  graph_id_field: Optional. String. Which column to read for graph IDs. Default: graph_id."
      ],
      "metadata": {
        "id": "DQNcVo45fiDr"
      }
    }
  ]
}